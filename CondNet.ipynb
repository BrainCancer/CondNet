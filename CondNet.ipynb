{
  "nbformat": 4,
  "nbformat_minor": 0,
  "metadata": {
    "orig_nbformat": 2,
    "kernelspec": {
      "name": "python3",
      "display_name": "Python 3"
    },
    "colab": {
      "name": "CondNet.ipynb",
      "provenance": [],
      "collapsed_sections": []
    },
    "widgets": {
      "application/vnd.jupyter.widget-state+json": {
        "500a58240d03450a99dfb671d467b4a5": {
          "model_module": "@jupyter-widgets/controls",
          "model_name": "HBoxModel",
          "state": {
            "_view_name": "HBoxView",
            "_dom_classes": [],
            "_model_name": "HBoxModel",
            "_view_module": "@jupyter-widgets/controls",
            "_model_module_version": "1.5.0",
            "_view_count": null,
            "_view_module_version": "1.5.0",
            "box_style": "",
            "layout": "IPY_MODEL_d104a48f78444e3d87417aa479ffbe98",
            "_model_module": "@jupyter-widgets/controls",
            "children": [
              "IPY_MODEL_6dadea3dd6b74073b5b617f20baae17f",
              "IPY_MODEL_eac8c1b7200442219a981fa98284ff8a"
            ]
          }
        },
        "d104a48f78444e3d87417aa479ffbe98": {
          "model_module": "@jupyter-widgets/base",
          "model_name": "LayoutModel",
          "state": {
            "_view_name": "LayoutView",
            "grid_template_rows": null,
            "right": null,
            "justify_content": null,
            "_view_module": "@jupyter-widgets/base",
            "overflow": null,
            "_model_module_version": "1.2.0",
            "_view_count": null,
            "flex_flow": null,
            "width": null,
            "min_width": null,
            "border": null,
            "align_items": null,
            "bottom": null,
            "_model_module": "@jupyter-widgets/base",
            "top": null,
            "grid_column": null,
            "overflow_y": null,
            "overflow_x": null,
            "grid_auto_flow": null,
            "grid_area": null,
            "grid_template_columns": null,
            "flex": null,
            "_model_name": "LayoutModel",
            "justify_items": null,
            "grid_row": null,
            "max_height": null,
            "align_content": null,
            "visibility": null,
            "align_self": null,
            "height": null,
            "min_height": null,
            "padding": null,
            "grid_auto_rows": null,
            "grid_gap": null,
            "max_width": null,
            "order": null,
            "_view_module_version": "1.2.0",
            "grid_template_areas": null,
            "object_position": null,
            "object_fit": null,
            "grid_auto_columns": null,
            "margin": null,
            "display": null,
            "left": null
          }
        },
        "6dadea3dd6b74073b5b617f20baae17f": {
          "model_module": "@jupyter-widgets/controls",
          "model_name": "FloatProgressModel",
          "state": {
            "_view_name": "ProgressView",
            "style": "IPY_MODEL_1fb0c37d64d44f2b838689bc95f1ba70",
            "_dom_classes": [],
            "description": "100%",
            "_model_name": "FloatProgressModel",
            "bar_style": "success",
            "max": 10000,
            "_view_module": "@jupyter-widgets/controls",
            "_model_module_version": "1.5.0",
            "value": 10000,
            "_view_count": null,
            "_view_module_version": "1.5.0",
            "orientation": "horizontal",
            "min": 0,
            "description_tooltip": null,
            "_model_module": "@jupyter-widgets/controls",
            "layout": "IPY_MODEL_fc845f3f6709480ba9d5d8260fefaa04"
          }
        },
        "eac8c1b7200442219a981fa98284ff8a": {
          "model_module": "@jupyter-widgets/controls",
          "model_name": "HTMLModel",
          "state": {
            "_view_name": "HTMLView",
            "style": "IPY_MODEL_109c0dd62f6248768740f1743d41180e",
            "_dom_classes": [],
            "description": "",
            "_model_name": "HTMLModel",
            "placeholder": "​",
            "_view_module": "@jupyter-widgets/controls",
            "_model_module_version": "1.5.0",
            "value": " 10000/10000 [04:04&lt;00:00, 40.95it/s]",
            "_view_count": null,
            "_view_module_version": "1.5.0",
            "description_tooltip": null,
            "_model_module": "@jupyter-widgets/controls",
            "layout": "IPY_MODEL_adbfcc0818bc4c6b92f9adf03e041da8"
          }
        },
        "1fb0c37d64d44f2b838689bc95f1ba70": {
          "model_module": "@jupyter-widgets/controls",
          "model_name": "ProgressStyleModel",
          "state": {
            "_view_name": "StyleView",
            "_model_name": "ProgressStyleModel",
            "description_width": "initial",
            "_view_module": "@jupyter-widgets/base",
            "_model_module_version": "1.5.0",
            "_view_count": null,
            "_view_module_version": "1.2.0",
            "bar_color": null,
            "_model_module": "@jupyter-widgets/controls"
          }
        },
        "fc845f3f6709480ba9d5d8260fefaa04": {
          "model_module": "@jupyter-widgets/base",
          "model_name": "LayoutModel",
          "state": {
            "_view_name": "LayoutView",
            "grid_template_rows": null,
            "right": null,
            "justify_content": null,
            "_view_module": "@jupyter-widgets/base",
            "overflow": null,
            "_model_module_version": "1.2.0",
            "_view_count": null,
            "flex_flow": null,
            "width": null,
            "min_width": null,
            "border": null,
            "align_items": null,
            "bottom": null,
            "_model_module": "@jupyter-widgets/base",
            "top": null,
            "grid_column": null,
            "overflow_y": null,
            "overflow_x": null,
            "grid_auto_flow": null,
            "grid_area": null,
            "grid_template_columns": null,
            "flex": null,
            "_model_name": "LayoutModel",
            "justify_items": null,
            "grid_row": null,
            "max_height": null,
            "align_content": null,
            "visibility": null,
            "align_self": null,
            "height": null,
            "min_height": null,
            "padding": null,
            "grid_auto_rows": null,
            "grid_gap": null,
            "max_width": null,
            "order": null,
            "_view_module_version": "1.2.0",
            "grid_template_areas": null,
            "object_position": null,
            "object_fit": null,
            "grid_auto_columns": null,
            "margin": null,
            "display": null,
            "left": null
          }
        },
        "109c0dd62f6248768740f1743d41180e": {
          "model_module": "@jupyter-widgets/controls",
          "model_name": "DescriptionStyleModel",
          "state": {
            "_view_name": "StyleView",
            "_model_name": "DescriptionStyleModel",
            "description_width": "",
            "_view_module": "@jupyter-widgets/base",
            "_model_module_version": "1.5.0",
            "_view_count": null,
            "_view_module_version": "1.2.0",
            "_model_module": "@jupyter-widgets/controls"
          }
        },
        "adbfcc0818bc4c6b92f9adf03e041da8": {
          "model_module": "@jupyter-widgets/base",
          "model_name": "LayoutModel",
          "state": {
            "_view_name": "LayoutView",
            "grid_template_rows": null,
            "right": null,
            "justify_content": null,
            "_view_module": "@jupyter-widgets/base",
            "overflow": null,
            "_model_module_version": "1.2.0",
            "_view_count": null,
            "flex_flow": null,
            "width": null,
            "min_width": null,
            "border": null,
            "align_items": null,
            "bottom": null,
            "_model_module": "@jupyter-widgets/base",
            "top": null,
            "grid_column": null,
            "overflow_y": null,
            "overflow_x": null,
            "grid_auto_flow": null,
            "grid_area": null,
            "grid_template_columns": null,
            "flex": null,
            "_model_name": "LayoutModel",
            "justify_items": null,
            "grid_row": null,
            "max_height": null,
            "align_content": null,
            "visibility": null,
            "align_self": null,
            "height": null,
            "min_height": null,
            "padding": null,
            "grid_auto_rows": null,
            "grid_gap": null,
            "max_width": null,
            "order": null,
            "_view_module_version": "1.2.0",
            "grid_template_areas": null,
            "object_position": null,
            "object_fit": null,
            "grid_auto_columns": null,
            "margin": null,
            "display": null,
            "left": null
          }
        },
        "cfcac1d29e8d4fd2bc3ddfe5d5e6f9bc": {
          "model_module": "@jupyter-widgets/controls",
          "model_name": "HBoxModel",
          "state": {
            "_view_name": "HBoxView",
            "_dom_classes": [],
            "_model_name": "HBoxModel",
            "_view_module": "@jupyter-widgets/controls",
            "_model_module_version": "1.5.0",
            "_view_count": null,
            "_view_module_version": "1.5.0",
            "box_style": "",
            "layout": "IPY_MODEL_ad3cbc231df743cc986c58c135c41b10",
            "_model_module": "@jupyter-widgets/controls",
            "children": [
              "IPY_MODEL_190eef798e574f00926b19e1f0bd9e2c",
              "IPY_MODEL_32ce6afc24df4e8ea94ece55f001d4c5"
            ]
          }
        },
        "ad3cbc231df743cc986c58c135c41b10": {
          "model_module": "@jupyter-widgets/base",
          "model_name": "LayoutModel",
          "state": {
            "_view_name": "LayoutView",
            "grid_template_rows": null,
            "right": null,
            "justify_content": null,
            "_view_module": "@jupyter-widgets/base",
            "overflow": null,
            "_model_module_version": "1.2.0",
            "_view_count": null,
            "flex_flow": null,
            "width": null,
            "min_width": null,
            "border": null,
            "align_items": null,
            "bottom": null,
            "_model_module": "@jupyter-widgets/base",
            "top": null,
            "grid_column": null,
            "overflow_y": null,
            "overflow_x": null,
            "grid_auto_flow": null,
            "grid_area": null,
            "grid_template_columns": null,
            "flex": null,
            "_model_name": "LayoutModel",
            "justify_items": null,
            "grid_row": null,
            "max_height": null,
            "align_content": null,
            "visibility": null,
            "align_self": null,
            "height": null,
            "min_height": null,
            "padding": null,
            "grid_auto_rows": null,
            "grid_gap": null,
            "max_width": null,
            "order": null,
            "_view_module_version": "1.2.0",
            "grid_template_areas": null,
            "object_position": null,
            "object_fit": null,
            "grid_auto_columns": null,
            "margin": null,
            "display": null,
            "left": null
          }
        },
        "190eef798e574f00926b19e1f0bd9e2c": {
          "model_module": "@jupyter-widgets/controls",
          "model_name": "FloatProgressModel",
          "state": {
            "_view_name": "ProgressView",
            "style": "IPY_MODEL_5b452822cbeb460eadbc65df37912d7c",
            "_dom_classes": [],
            "description": "100%",
            "_model_name": "FloatProgressModel",
            "bar_style": "success",
            "max": 10000,
            "_view_module": "@jupyter-widgets/controls",
            "_model_module_version": "1.5.0",
            "value": 10000,
            "_view_count": null,
            "_view_module_version": "1.5.0",
            "orientation": "horizontal",
            "min": 0,
            "description_tooltip": null,
            "_model_module": "@jupyter-widgets/controls",
            "layout": "IPY_MODEL_37c449c35a8446bd8a407923aa5d2985"
          }
        },
        "32ce6afc24df4e8ea94ece55f001d4c5": {
          "model_module": "@jupyter-widgets/controls",
          "model_name": "HTMLModel",
          "state": {
            "_view_name": "HTMLView",
            "style": "IPY_MODEL_76365eab5e9840ac898772c2708031f7",
            "_dom_classes": [],
            "description": "",
            "_model_name": "HTMLModel",
            "placeholder": "​",
            "_view_module": "@jupyter-widgets/controls",
            "_model_module_version": "1.5.0",
            "value": " 10000/10000 [01:17&lt;00:00, 129.28it/s]",
            "_view_count": null,
            "_view_module_version": "1.5.0",
            "description_tooltip": null,
            "_model_module": "@jupyter-widgets/controls",
            "layout": "IPY_MODEL_ca3ada592d8c44019c880ab709dd77ef"
          }
        },
        "5b452822cbeb460eadbc65df37912d7c": {
          "model_module": "@jupyter-widgets/controls",
          "model_name": "ProgressStyleModel",
          "state": {
            "_view_name": "StyleView",
            "_model_name": "ProgressStyleModel",
            "description_width": "initial",
            "_view_module": "@jupyter-widgets/base",
            "_model_module_version": "1.5.0",
            "_view_count": null,
            "_view_module_version": "1.2.0",
            "bar_color": null,
            "_model_module": "@jupyter-widgets/controls"
          }
        },
        "37c449c35a8446bd8a407923aa5d2985": {
          "model_module": "@jupyter-widgets/base",
          "model_name": "LayoutModel",
          "state": {
            "_view_name": "LayoutView",
            "grid_template_rows": null,
            "right": null,
            "justify_content": null,
            "_view_module": "@jupyter-widgets/base",
            "overflow": null,
            "_model_module_version": "1.2.0",
            "_view_count": null,
            "flex_flow": null,
            "width": null,
            "min_width": null,
            "border": null,
            "align_items": null,
            "bottom": null,
            "_model_module": "@jupyter-widgets/base",
            "top": null,
            "grid_column": null,
            "overflow_y": null,
            "overflow_x": null,
            "grid_auto_flow": null,
            "grid_area": null,
            "grid_template_columns": null,
            "flex": null,
            "_model_name": "LayoutModel",
            "justify_items": null,
            "grid_row": null,
            "max_height": null,
            "align_content": null,
            "visibility": null,
            "align_self": null,
            "height": null,
            "min_height": null,
            "padding": null,
            "grid_auto_rows": null,
            "grid_gap": null,
            "max_width": null,
            "order": null,
            "_view_module_version": "1.2.0",
            "grid_template_areas": null,
            "object_position": null,
            "object_fit": null,
            "grid_auto_columns": null,
            "margin": null,
            "display": null,
            "left": null
          }
        },
        "76365eab5e9840ac898772c2708031f7": {
          "model_module": "@jupyter-widgets/controls",
          "model_name": "DescriptionStyleModel",
          "state": {
            "_view_name": "StyleView",
            "_model_name": "DescriptionStyleModel",
            "description_width": "",
            "_view_module": "@jupyter-widgets/base",
            "_model_module_version": "1.5.0",
            "_view_count": null,
            "_view_module_version": "1.2.0",
            "_model_module": "@jupyter-widgets/controls"
          }
        },
        "ca3ada592d8c44019c880ab709dd77ef": {
          "model_module": "@jupyter-widgets/base",
          "model_name": "LayoutModel",
          "state": {
            "_view_name": "LayoutView",
            "grid_template_rows": null,
            "right": null,
            "justify_content": null,
            "_view_module": "@jupyter-widgets/base",
            "overflow": null,
            "_model_module_version": "1.2.0",
            "_view_count": null,
            "flex_flow": null,
            "width": null,
            "min_width": null,
            "border": null,
            "align_items": null,
            "bottom": null,
            "_model_module": "@jupyter-widgets/base",
            "top": null,
            "grid_column": null,
            "overflow_y": null,
            "overflow_x": null,
            "grid_auto_flow": null,
            "grid_area": null,
            "grid_template_columns": null,
            "flex": null,
            "_model_name": "LayoutModel",
            "justify_items": null,
            "grid_row": null,
            "max_height": null,
            "align_content": null,
            "visibility": null,
            "align_self": null,
            "height": null,
            "min_height": null,
            "padding": null,
            "grid_auto_rows": null,
            "grid_gap": null,
            "max_width": null,
            "order": null,
            "_view_module_version": "1.2.0",
            "grid_template_areas": null,
            "object_position": null,
            "object_fit": null,
            "grid_auto_columns": null,
            "margin": null,
            "display": null,
            "left": null
          }
        },
        "55e68778881b478b8ff9e9b52874ddf2": {
          "model_module": "@jupyter-widgets/controls",
          "model_name": "HBoxModel",
          "state": {
            "_view_name": "HBoxView",
            "_dom_classes": [],
            "_model_name": "HBoxModel",
            "_view_module": "@jupyter-widgets/controls",
            "_model_module_version": "1.5.0",
            "_view_count": null,
            "_view_module_version": "1.5.0",
            "box_style": "",
            "layout": "IPY_MODEL_b677a5f849bf4d04be44b7921653df5a",
            "_model_module": "@jupyter-widgets/controls",
            "children": [
              "IPY_MODEL_25a9619b33d8405f81b5a1f5e6f98ebf",
              "IPY_MODEL_8ab44ef957884417a335031fc0d07863"
            ]
          }
        },
        "b677a5f849bf4d04be44b7921653df5a": {
          "model_module": "@jupyter-widgets/base",
          "model_name": "LayoutModel",
          "state": {
            "_view_name": "LayoutView",
            "grid_template_rows": null,
            "right": null,
            "justify_content": null,
            "_view_module": "@jupyter-widgets/base",
            "overflow": null,
            "_model_module_version": "1.2.0",
            "_view_count": null,
            "flex_flow": null,
            "width": null,
            "min_width": null,
            "border": null,
            "align_items": null,
            "bottom": null,
            "_model_module": "@jupyter-widgets/base",
            "top": null,
            "grid_column": null,
            "overflow_y": null,
            "overflow_x": null,
            "grid_auto_flow": null,
            "grid_area": null,
            "grid_template_columns": null,
            "flex": null,
            "_model_name": "LayoutModel",
            "justify_items": null,
            "grid_row": null,
            "max_height": null,
            "align_content": null,
            "visibility": null,
            "align_self": null,
            "height": null,
            "min_height": null,
            "padding": null,
            "grid_auto_rows": null,
            "grid_gap": null,
            "max_width": null,
            "order": null,
            "_view_module_version": "1.2.0",
            "grid_template_areas": null,
            "object_position": null,
            "object_fit": null,
            "grid_auto_columns": null,
            "margin": null,
            "display": null,
            "left": null
          }
        },
        "25a9619b33d8405f81b5a1f5e6f98ebf": {
          "model_module": "@jupyter-widgets/controls",
          "model_name": "FloatProgressModel",
          "state": {
            "_view_name": "ProgressView",
            "style": "IPY_MODEL_3afab23c0bf048f0aa749a16fd252f65",
            "_dom_classes": [],
            "description": " 55%",
            "_model_name": "FloatProgressModel",
            "bar_style": "",
            "max": 20,
            "_view_module": "@jupyter-widgets/controls",
            "_model_module_version": "1.5.0",
            "value": 11,
            "_view_count": null,
            "_view_module_version": "1.5.0",
            "orientation": "horizontal",
            "min": 0,
            "description_tooltip": null,
            "_model_module": "@jupyter-widgets/controls",
            "layout": "IPY_MODEL_df742c198e2f4beb838423de336c3b94"
          }
        },
        "8ab44ef957884417a335031fc0d07863": {
          "model_module": "@jupyter-widgets/controls",
          "model_name": "HTMLModel",
          "state": {
            "_view_name": "HTMLView",
            "style": "IPY_MODEL_d206c5af7dd64f3780148b21ae579874",
            "_dom_classes": [],
            "description": "",
            "_model_name": "HTMLModel",
            "placeholder": "​",
            "_view_module": "@jupyter-widgets/controls",
            "_model_module_version": "1.5.0",
            "value": " 11/20 [1:45:27&lt;1:25:59, 573.28s/it]",
            "_view_count": null,
            "_view_module_version": "1.5.0",
            "description_tooltip": null,
            "_model_module": "@jupyter-widgets/controls",
            "layout": "IPY_MODEL_2ec18ae3e77041b0a9497987df1e3cc9"
          }
        },
        "3afab23c0bf048f0aa749a16fd252f65": {
          "model_module": "@jupyter-widgets/controls",
          "model_name": "ProgressStyleModel",
          "state": {
            "_view_name": "StyleView",
            "_model_name": "ProgressStyleModel",
            "description_width": "initial",
            "_view_module": "@jupyter-widgets/base",
            "_model_module_version": "1.5.0",
            "_view_count": null,
            "_view_module_version": "1.2.0",
            "bar_color": null,
            "_model_module": "@jupyter-widgets/controls"
          }
        },
        "df742c198e2f4beb838423de336c3b94": {
          "model_module": "@jupyter-widgets/base",
          "model_name": "LayoutModel",
          "state": {
            "_view_name": "LayoutView",
            "grid_template_rows": null,
            "right": null,
            "justify_content": null,
            "_view_module": "@jupyter-widgets/base",
            "overflow": null,
            "_model_module_version": "1.2.0",
            "_view_count": null,
            "flex_flow": null,
            "width": null,
            "min_width": null,
            "border": null,
            "align_items": null,
            "bottom": null,
            "_model_module": "@jupyter-widgets/base",
            "top": null,
            "grid_column": null,
            "overflow_y": null,
            "overflow_x": null,
            "grid_auto_flow": null,
            "grid_area": null,
            "grid_template_columns": null,
            "flex": null,
            "_model_name": "LayoutModel",
            "justify_items": null,
            "grid_row": null,
            "max_height": null,
            "align_content": null,
            "visibility": null,
            "align_self": null,
            "height": null,
            "min_height": null,
            "padding": null,
            "grid_auto_rows": null,
            "grid_gap": null,
            "max_width": null,
            "order": null,
            "_view_module_version": "1.2.0",
            "grid_template_areas": null,
            "object_position": null,
            "object_fit": null,
            "grid_auto_columns": null,
            "margin": null,
            "display": null,
            "left": null
          }
        },
        "d206c5af7dd64f3780148b21ae579874": {
          "model_module": "@jupyter-widgets/controls",
          "model_name": "DescriptionStyleModel",
          "state": {
            "_view_name": "StyleView",
            "_model_name": "DescriptionStyleModel",
            "description_width": "",
            "_view_module": "@jupyter-widgets/base",
            "_model_module_version": "1.5.0",
            "_view_count": null,
            "_view_module_version": "1.2.0",
            "_model_module": "@jupyter-widgets/controls"
          }
        },
        "2ec18ae3e77041b0a9497987df1e3cc9": {
          "model_module": "@jupyter-widgets/base",
          "model_name": "LayoutModel",
          "state": {
            "_view_name": "LayoutView",
            "grid_template_rows": null,
            "right": null,
            "justify_content": null,
            "_view_module": "@jupyter-widgets/base",
            "overflow": null,
            "_model_module_version": "1.2.0",
            "_view_count": null,
            "flex_flow": null,
            "width": null,
            "min_width": null,
            "border": null,
            "align_items": null,
            "bottom": null,
            "_model_module": "@jupyter-widgets/base",
            "top": null,
            "grid_column": null,
            "overflow_y": null,
            "overflow_x": null,
            "grid_auto_flow": null,
            "grid_area": null,
            "grid_template_columns": null,
            "flex": null,
            "_model_name": "LayoutModel",
            "justify_items": null,
            "grid_row": null,
            "max_height": null,
            "align_content": null,
            "visibility": null,
            "align_self": null,
            "height": null,
            "min_height": null,
            "padding": null,
            "grid_auto_rows": null,
            "grid_gap": null,
            "max_width": null,
            "order": null,
            "_view_module_version": "1.2.0",
            "grid_template_areas": null,
            "object_position": null,
            "object_fit": null,
            "grid_auto_columns": null,
            "margin": null,
            "display": null,
            "left": null
          }
        }
      }
    },
    "accelerator": "GPU"
  },
  "cells": [
    {
      "cell_type": "code",
      "metadata": {
        "id": "zNR4ZLJwNYf0",
        "colab_type": "code",
        "colab": {
          "base_uri": "https://localhost:8080/",
          "height": 123
        },
        "outputId": "ab3820d8-2528-45a5-97f0-f65dafe25b92"
      },
      "source": [
        "from google.colab import drive\n",
        "drive.mount('/content/drive')"
      ],
      "execution_count": 1,
      "outputs": [
        {
          "output_type": "stream",
          "text": [
            "Go to this URL in a browser: https://accounts.google.com/o/oauth2/auth?client_id=947318989803-6bn6qk8qdgf4n4g3pfee6491hc0brc4i.apps.googleusercontent.com&redirect_uri=urn%3aietf%3awg%3aoauth%3a2.0%3aoob&response_type=code&scope=email%20https%3a%2f%2fwww.googleapis.com%2fauth%2fdocs.test%20https%3a%2f%2fwww.googleapis.com%2fauth%2fdrive%20https%3a%2f%2fwww.googleapis.com%2fauth%2fdrive.photos.readonly%20https%3a%2f%2fwww.googleapis.com%2fauth%2fpeopleapi.readonly\n",
            "\n",
            "Enter your authorization code:\n",
            "··········\n",
            "Mounted at /content/drive\n"
          ],
          "name": "stdout"
        }
      ]
    },
    {
      "cell_type": "code",
      "metadata": {
        "id": "gIVYOH0mCpyL",
        "colab_type": "code",
        "colab": {}
      },
      "source": [
        "import sys\n",
        "sys.path.append('/content/drive/My Drive/Colab Notebooks/CondNet')"
      ],
      "execution_count": 2,
      "outputs": []
    },
    {
      "cell_type": "code",
      "metadata": {
        "id": "Pj25LnjGh0fN",
        "colab_type": "code",
        "colab": {}
      },
      "source": [
        "from tqdm.notebook import tqdm\n",
        "\n",
        "import importlib\n",
        "import torch\n",
        "import torch.optim as optim\n",
        "import torch.nn as nn\n",
        "import numpy as np\n",
        "import matplotlib.pyplot as plt\n",
        "\n",
        "from torch import Tensor, Size\n",
        "from torch import autograd\n",
        "from torch.nn import Module\n",
        "from typing import Optional\n",
        "from torch.nn import functional as F\n",
        "\n",
        "import img_utils as iu\n",
        "import loss_iter\n",
        "import CondNet"
      ],
      "execution_count": 3,
      "outputs": []
    },
    {
      "cell_type": "code",
      "metadata": {
        "id": "nLQsphGGtYdf",
        "colab_type": "code",
        "colab": {}
      },
      "source": [
        "torch.manual_seed(0)\n",
        "torch.backends.cudnn.deterministic = True\n",
        "torch.backends.cudnn.benchmark = False\n",
        "np.random.seed(0)"
      ],
      "execution_count": 4,
      "outputs": []
    },
    {
      "cell_type": "code",
      "metadata": {
        "id": "dit037oniJAj",
        "colab_type": "code",
        "colab": {
          "base_uri": "https://localhost:8080/",
          "height": 115,
          "referenced_widgets": [
            "500a58240d03450a99dfb671d467b4a5",
            "d104a48f78444e3d87417aa479ffbe98",
            "6dadea3dd6b74073b5b617f20baae17f",
            "eac8c1b7200442219a981fa98284ff8a",
            "1fb0c37d64d44f2b838689bc95f1ba70",
            "fc845f3f6709480ba9d5d8260fefaa04",
            "109c0dd62f6248768740f1743d41180e",
            "adbfcc0818bc4c6b92f9adf03e041da8",
            "cfcac1d29e8d4fd2bc3ddfe5d5e6f9bc",
            "ad3cbc231df743cc986c58c135c41b10",
            "190eef798e574f00926b19e1f0bd9e2c",
            "32ce6afc24df4e8ea94ece55f001d4c5",
            "5b452822cbeb460eadbc65df37912d7c",
            "37c449c35a8446bd8a407923aa5d2985",
            "76365eab5e9840ac898772c2708031f7",
            "ca3ada592d8c44019c880ab709dd77ef"
          ]
        },
        "outputId": "be31d815-facd-4088-ba5b-78119e7b5fe9"
      },
      "source": [
        "importlib.reload(iu)\n",
        "iu.gen_images(20000)"
      ],
      "execution_count": 5,
      "outputs": [
        {
          "output_type": "display_data",
          "data": {
            "application/vnd.jupyter.widget-view+json": {
              "model_id": "500a58240d03450a99dfb671d467b4a5",
              "version_minor": 0,
              "version_major": 2
            },
            "text/plain": [
              "HBox(children=(FloatProgress(value=0.0, max=10000.0), HTML(value='')))"
            ]
          },
          "metadata": {
            "tags": []
          }
        },
        {
          "output_type": "stream",
          "text": [
            "\n"
          ],
          "name": "stdout"
        },
        {
          "output_type": "display_data",
          "data": {
            "application/vnd.jupyter.widget-view+json": {
              "model_id": "cfcac1d29e8d4fd2bc3ddfe5d5e6f9bc",
              "version_minor": 0,
              "version_major": 2
            },
            "text/plain": [
              "HBox(children=(FloatProgress(value=0.0, max=10000.0), HTML(value='')))"
            ]
          },
          "metadata": {
            "tags": []
          }
        },
        {
          "output_type": "stream",
          "text": [
            "\n"
          ],
          "name": "stdout"
        }
      ]
    },
    {
      "cell_type": "code",
      "metadata": {
        "id": "tsGUTHLth0fa",
        "colab_type": "code",
        "colab": {}
      },
      "source": [
        "class ReductionBlock(nn.Module):\n",
        "\n",
        "    def __init__(self, in_channels):\n",
        "        super(ReductionBlock, self).__init__()\n",
        "        self.in_channels = in_channels\n",
        "        self.net = nn.Sequential(\n",
        "            nn.Conv2d(self.in_channels, 32, kernel_size=(4, 4)),\n",
        "            nn.MaxPool2d(kernel_size=(2, 2), stride=2),\n",
        "            nn.Conv2d(32, 48, kernel_size=(4, 4)),\n",
        "            nn.MaxPool2d(kernel_size=(2, 2), stride=2),\n",
        "            nn.Conv2d(48, 64, kernel_size=(4, 4)),\n",
        "            nn.MaxPool2d(kernel_size=(2, 2), stride=2),\n",
        "            nn.Conv2d(64, 96, kernel_size=(4, 4)),\n",
        "            nn.MaxPool2d(kernel_size=(2, 2), stride=2),\n",
        "            nn.Upsample(scale_factor=64)\n",
        "        )\n",
        "\n",
        "    def forward(self, x):\n",
        "        return self.net(x)"
      ],
      "execution_count": 6,
      "outputs": []
    },
    {
      "cell_type": "code",
      "metadata": {
        "id": "HNDHo5xHh0fl",
        "colab_type": "code",
        "colab": {}
      },
      "source": [
        "class MainBlock(nn.Module):\n",
        "    \n",
        "    def __init__(self, in_channels, kernel_size):\n",
        "        super(MainBlock, self).__init__()\n",
        "        self.in_channels = in_channels\n",
        "        self.kernel_size = kernel_size\n",
        "        self.reduction_block = ReductionBlock(self.in_channels)\n",
        "        self.batch_norm = nn.BatchNorm2d(self.in_channels)\n",
        "        \n",
        "        if self.kernel_size % 2 == 0:\n",
        "            self.zero_pad = nn.ZeroPad2d(padding=(3, 0, 3, 0))\n",
        "            self.conv_layer = nn.Conv2d(self.in_channels + 96, 64, kernel_size=self.kernel_size, padding=0)\n",
        "        else:\n",
        "            self.conv_layer = nn.Conv2d(self.in_channels + 96, 64, kernel_size=self.kernel_size, padding=self.kernel_size // 2)\n",
        "    def forward(self, x):\n",
        "        x = self.batch_norm(x)\n",
        "        reduced_x = self.reduction_block(x)\n",
        "        # print(reduced_x.shape, x.shape)\n",
        "        x = torch.cat((x, reduced_x), dim=1)\n",
        "        if self.kernel_size % 2 == 0:\n",
        "            x = self.zero_pad(x)\n",
        "        x = self.conv_layer(x)\n",
        "        x_mean = x.mean()\n",
        "        ones = torch.ones(x.shape)\n",
        "        if torch.cuda.is_available():\n",
        "          ones = ones.cuda()\n",
        "        x = torch.cat((x, x_mean * ones), dim=1)\n",
        "        return x"
      ],
      "execution_count": 7,
      "outputs": []
    },
    {
      "cell_type": "code",
      "metadata": {
        "id": "OEaiO-SLh0fv",
        "colab_type": "code",
        "colab": {}
      },
      "source": [
        "class CondNet(nn.Module):\n",
        "\n",
        "    def __init__(self, in_channels, n_class=3):\n",
        "        super(CondNet, self).__init__()\n",
        "        self.in_channels = in_channels\n",
        "        self.n_class = n_class\n",
        "        self.net = nn.Sequential(\n",
        "            MainBlock(self.in_channels, 3),\n",
        "            MainBlock(128, 4),\n",
        "            MainBlock(128, 5)\n",
        "        )\n",
        "\n",
        "        self.cond_linear = nn.Sequential(\n",
        "            nn.Linear(128, 64),\n",
        "            nn.ELU(),\n",
        "            nn.Linear(64, 64),\n",
        "            nn.ELU(),\n",
        "            nn.Linear(64, 1)\n",
        "        )\n",
        "\n",
        "        self.cluster_linear = nn.Sequential(\n",
        "            nn.Linear(128, 64),\n",
        "            nn.ELU(),\n",
        "            nn.Linear(64, 64),\n",
        "            nn.ELU(),\n",
        "            nn.Linear(64, 2)\n",
        "        )\n",
        "\n",
        "        self.seg_linear = nn.Sequential(\n",
        "            nn.Linear(128, 64),\n",
        "            nn.ELU(),\n",
        "            nn.Linear(64, 64),\n",
        "            nn.ELU(),\n",
        "            nn.Linear(64, 4),\n",
        "            nn.Softmax2d(),\n",
        "        )\n",
        "\n",
        "    def forward(self, x):\n",
        "        x = self.net(x)\n",
        "        x = x.permute(0, 2, 3, 1)\n",
        "        beta = self.cond_linear(x).squeeze(3)\n",
        "        clust = self.cluster_linear(x)\n",
        "        seg = self.seg_linear(x).permute(0, 3, 1, 2)\n",
        "        return beta, clust, seg"
      ],
      "execution_count": 8,
      "outputs": []
    },
    {
      "cell_type": "code",
      "metadata": {
        "id": "ratMQSk9h0hT",
        "colab_type": "code",
        "colab": {}
      },
      "source": [
        "torch.manual_seed(0)\n",
        "np.random.seed(0)\n",
        "\n",
        "test_net = CondNet(3)\n",
        "test_net.cuda()\n",
        "\n",
        "opt1 = optim.Adam(test_net.parameters(), lr=5*10**(-4))"
      ],
      "execution_count": 9,
      "outputs": []
    },
    {
      "cell_type": "code",
      "metadata": {
        "id": "DiW1mJ_DIInD",
        "colab_type": "code",
        "colab": {
          "base_uri": "https://localhost:8080/",
          "height": 51
        },
        "outputId": "337bf33c-19be-47ce-f481-caed3abb3b85"
      },
      "source": [
        "importlib.reload(loss_iter)\n",
        "loss_func = loss_iter.CondLoss(loss_function=nn.CrossEntropyLoss(reduce=False), q_min=0.2, supression=20, cond_weight=0.3, cuda=True)"
      ],
      "execution_count": 10,
      "outputs": [
        {
          "output_type": "stream",
          "text": [
            "/usr/local/lib/python3.6/dist-packages/torch/nn/_reduction.py:44: UserWarning: size_average and reduce args will be deprecated, please use reduction='none' instead.\n",
            "  warnings.warn(warning.format(ret))\n"
          ],
          "name": "stderr"
        }
      ]
    },
    {
      "cell_type": "code",
      "metadata": {
        "id": "PKjjTfX3h0hh",
        "colab_type": "code",
        "colab": {}
      },
      "source": [
        "ds = iu.ImageDataset('')"
      ],
      "execution_count": 11,
      "outputs": []
    },
    {
      "cell_type": "code",
      "metadata": {
        "id": "hhPhuIhch0ho",
        "colab_type": "code",
        "colab": {}
      },
      "source": [
        "dataloader = torch.utils.data.DataLoader(ds, batch_size=100, shuffle=False)#, collate_fn=lambda batch: [(dp[0], dp[1], dp[2]) for dp in batch])"
      ],
      "execution_count": 12,
      "outputs": []
    },
    {
      "cell_type": "code",
      "metadata": {
        "id": "rFEju_xvlqjT",
        "colab_type": "code",
        "colab": {}
      },
      "source": [
        "import gc\n",
        "\n",
        "gc.collect()\n",
        "with torch.no_grad():\n",
        "    torch.cuda.empty_cache()\n"
      ],
      "execution_count": 56,
      "outputs": []
    },
    {
      "cell_type": "code",
      "metadata": {
        "id": "ISFNkVx7h0h-",
        "colab_type": "code",
        "colab": {}
      },
      "source": [
        "\n",
        "\n",
        "test_net.cuda()\n",
        "test_net.train()\n",
        "for i, (data, mask, matrix) in enumerate(dataloader):\n",
        "  if (i < 9):\n",
        "    print(f\"i is {i}\")\n",
        "    data = data.cuda().float()\n",
        "    mask = mask.cuda().squeeze(1)\n",
        "    matrix = matrix.cuda().float()\n",
        "    with autograd.detect_anomaly():\n",
        "      opt1.zero_grad()\n",
        "      beta, test_x, segmentation = test_net(data)\n",
        "      test_matrix = matrix.reshape(matrix.shape[0], matrix.shape[1], -1)\n",
        "      test_out = nn.Sigmoid()(beta)\n",
        "      test_beta = test_out.reshape(test_out.shape[0], -1)\n",
        "      print(torch.sum(test_beta < -1), torch.sum(test_beta > 1))\n",
        "      test_q = loss_func.atanh(test_beta) ** 2 + loss_func.q_min\n",
        "      print(f\"q not nan: {torch.sum(torch.isnan(test_q))}\")\n",
        "      print(f\"q max: {torch.max(test_q - loss_func.q_min, dim=1)}\")\n",
        "      test_noise = (torch.sum(test_matrix, dim=1) < 1).float()\n",
        "      print(f\"Noise vertices: {torch.sum(test_noise, dim=1)}\")\n",
        "      print(f\"test_noise : {torch.sum((1 - test_noise) * (test_q - loss_func.q_min), dim=1)}\")\n",
        "      print(mask.shape, segmentation.shape)\n",
        "      temp_general_loss = loss_func.general_loss(test_noise, test_q, segmentation, mask)\n",
        "      temp_background_loss = loss_func.background_loss(test_beta, test_matrix, test_noise, test_matrix.shape[1])\n",
        "      temp_potential_loss = loss_func.potential_loss(test_x.reshape(10, -1, 2), test_q, test_matrix, 64, 64, test_matrix.shape[1])\n",
        "      print(f\"General loss: {temp_general_loss}\")\n",
        "      print(f\"Background loss: {temp_background_loss}\")\n",
        "      print(f\"Potential loss: {temp_potential_loss}\")\n",
        "      print(f\"Overall loss: {(temp_general_loss + loss_func.cond_weight * (temp_background_loss + temp_potential_loss)).mean()}\")\n",
        "      # print(test_noise.shape)\n",
        "      # print(test_noise)\n",
        "      # print(torch.sum(torch.eq(test_noise, 0)), torch.sum(torch.isnan(test_out)), torch.sum(torch.isnan(output[1])))\n",
        "      if i < 8:\n",
        "        curr_loss = loss_func(test_x, test_out, matrix, segmentation, mask)\n",
        "        print(torch.sum(torch.isnan(curr_loss)))\n",
        "        print(curr_loss.item())\n",
        "        curr_loss.backward()\n",
        "        opt1.step()"
      ],
      "execution_count": null,
      "outputs": []
    },
    {
      "cell_type": "code",
      "metadata": {
        "tags": [],
        "id": "fy0UNERDh0iE",
        "colab_type": "code",
        "colab": {
          "base_uri": "https://localhost:8080/",
          "height": 272,
          "referenced_widgets": [
            "55e68778881b478b8ff9e9b52874ddf2",
            "b677a5f849bf4d04be44b7921653df5a",
            "25a9619b33d8405f81b5a1f5e6f98ebf",
            "8ab44ef957884417a335031fc0d07863",
            "3afab23c0bf048f0aa749a16fd252f65",
            "df742c198e2f4beb838423de336c3b94",
            "d206c5af7dd64f3780148b21ae579874",
            "2ec18ae3e77041b0a9497987df1e3cc9"
          ]
        },
        "outputId": "142b0dcd-c486-4eec-c3f1-988c5761cecf"
      },
      "source": [
        "n_epochs = 20\n",
        "# torch.autograd.set_detect_anomaly = True\n",
        "loss_vs_epoch = []\n",
        "test_net.float()\n",
        "test_net.train()\n",
        "sigmoid = nn.Sigmoid()\n",
        "for epoch in tqdm(range(n_epochs)):\n",
        "    temp_loss = 0\n",
        "    for i, (data, mask, matrix) in enumerate(dataloader):\n",
        "        opt1.zero_grad()\n",
        "        data = data.cuda().float()\n",
        "        mask = mask.cuda().squeeze(1)\n",
        "        matrix = matrix.cuda().float()\n",
        "        try:\n",
        "          with autograd.detect_anomaly():\n",
        "            output = test_net(data)\n",
        "            curr_loss = loss_func(output[1], sigmoid(output[0]), matrix, output[2], mask)\n",
        "            curr_loss.backward()\n",
        "            opt1.step()\n",
        "        except Exception as e:\n",
        "          print(i, curr_loss)\n",
        "          print(e)\n",
        "          raise\n",
        "        temp_loss += curr_loss.item() * data.size(0)\n",
        "    loss_vs_epoch.append(temp_loss / len(dataloader.sampler))\n",
        "    print(f\"Epoch: {epoch}, Loss: {loss_vs_epoch[-1]}\")\n",
        "    torch.save(test_net.state_dict(), 'net_my_fcn.pt')\n",
        "\n",
        "torch.save(test_net.state_dict(), '/content/drive/My Drive/Colab Notebooks/CondNet/net_my_fcn.pt')"
      ],
      "execution_count": null,
      "outputs": [
        {
          "output_type": "display_data",
          "data": {
            "application/vnd.jupyter.widget-view+json": {
              "model_id": "55e68778881b478b8ff9e9b52874ddf2",
              "version_minor": 0,
              "version_major": 2
            },
            "text/plain": [
              "HBox(children=(FloatProgress(value=0.0, max=20.0), HTML(value='')))"
            ]
          },
          "metadata": {
            "tags": []
          }
        },
        {
          "output_type": "stream",
          "text": [
            "/usr/local/lib/python3.6/dist-packages/ipykernel_launcher.py:15: UserWarning: Anomaly Detection has been enabled. This mode will increase the runtime and should only be enabled for debugging.\n",
            "  from ipykernel import kernelapp as app\n"
          ],
          "name": "stderr"
        },
        {
          "output_type": "stream",
          "text": [
            "Epoch: 0, Loss: 0.4597792334854603\n",
            "Epoch: 1, Loss: 0.30465938985347746\n",
            "Epoch: 2, Loss: 0.3040757283568382\n",
            "Epoch: 3, Loss: 0.3035170328617096\n",
            "Epoch: 4, Loss: 0.3032880483567715\n",
            "Epoch: 5, Loss: 0.3031859156489372\n",
            "Epoch: 6, Loss: 0.30307984113693237\n",
            "Epoch: 7, Loss: 0.3029605385661125\n",
            "Epoch: 8, Loss: 0.30285963222384454\n",
            "Epoch: 9, Loss: 0.3027888610959053\n",
            "Epoch: 10, Loss: 0.30273773699998857\n"
          ],
          "name": "stdout"
        }
      ]
    },
    {
      "cell_type": "code",
      "metadata": {
        "id": "RefsU3uSZR0S",
        "colab_type": "code",
        "colab": {
          "base_uri": "https://localhost:8080/",
          "height": 540
        },
        "outputId": "5b6ed3be-70fe-4ff4-cd13-da8accc207f8"
      },
      "source": [
        "item = 134\n",
        "\n",
        "data, mask, _ = ds[item]\n",
        "\n",
        "data = data.unsqueeze(0).cuda().float()\n",
        "test_net.eval()\n",
        "test_out = test_net(data)\n",
        "\n",
        "\n",
        "fig, ax = plt.subplots(3, 3, figsize=(9,9))\n",
        "\n",
        "\n",
        "\n",
        "ax[0, 0].imshow(test_out[0][0, :, :].cpu().data.numpy())\n",
        "ax[0, 1].imshow(test_out[0][0, :, :].cpu().data.numpy())\n",
        "ax[0, 2].imshow(test_out[0][0, :, :].cpu().data.numpy())\n",
        "\n",
        "ax[1, 0].imshow((test_out[2][0, 0, :, :]).cpu().data.numpy())\n",
        "ax[1, 1].imshow((test_out[2][0, 1, :, :]).cpu().data.numpy())\n",
        "ax[1, 2].imshow((test_out[2][0, 2, :, :]).cpu().data.numpy())\n",
        "\n",
        "ax[2, 0].imshow((test_out[2][0, 3, :, :]).cpu().data.numpy())\n",
        "ax[2, 1].imshow(mask[0, :, :].cpu().data.numpy())\n",
        "ax[2, 2].imshow(mask[0, :, :].cpu().data.numpy())\n",
        "\n",
        "plt.show()"
      ],
      "execution_count": 31,
      "outputs": [
        {
          "output_type": "display_data",
          "data": {
            "image/png": "[encoded data removed]",
            "text/plain": [
              "<Figure size 648x648 with 9 Axes>"
            ]
          },
          "metadata": {
            "tags": [],
            "needs_background": "light"
          }
        }
      ]
    },
    {
      "cell_type": "code",
      "metadata": {
        "id": "y9R4pzhMjHsO",
        "colab_type": "code",
        "colab": {}
      },
      "source": [
        ""
      ],
      "execution_count": null,
      "outputs": []
    }
  ]
}