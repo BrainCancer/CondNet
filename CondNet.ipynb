{
  "nbformat": 4,
  "nbformat_minor": 0,
  "metadata": {
    "orig_nbformat": 2,
    "kernelspec": {
      "name": "python3",
      "display_name": "Python 3"
    },
    "colab": {
      "name": "CondNet.ipynb",
      "provenance": [],
      "collapsed_sections": []
    },
    "widgets": {
      "application/vnd.jupyter.widget-state+json": {
        "c40d0a3698fe4d83bbf1577f728bb5dc": {
          "model_module": "@jupyter-widgets/controls",
          "model_name": "HBoxModel",
          "state": {
            "_view_name": "HBoxView",
            "_dom_classes": [],
            "_model_name": "HBoxModel",
            "_view_module": "@jupyter-widgets/controls",
            "_model_module_version": "1.5.0",
            "_view_count": null,
            "_view_module_version": "1.5.0",
            "box_style": "",
            "layout": "IPY_MODEL_1ed123687dee493281d3a81356397e9e",
            "_model_module": "@jupyter-widgets/controls",
            "children": [
              "IPY_MODEL_753af1f2a6aa4850b7cce664c3237958",
              "IPY_MODEL_e599bb13794f4febb0cd3d5f388b13a5"
            ]
          }
        },
        "1ed123687dee493281d3a81356397e9e": {
          "model_module": "@jupyter-widgets/base",
          "model_name": "LayoutModel",
          "state": {
            "_view_name": "LayoutView",
            "grid_template_rows": null,
            "right": null,
            "justify_content": null,
            "_view_module": "@jupyter-widgets/base",
            "overflow": null,
            "_model_module_version": "1.2.0",
            "_view_count": null,
            "flex_flow": null,
            "width": null,
            "min_width": null,
            "border": null,
            "align_items": null,
            "bottom": null,
            "_model_module": "@jupyter-widgets/base",
            "top": null,
            "grid_column": null,
            "overflow_y": null,
            "overflow_x": null,
            "grid_auto_flow": null,
            "grid_area": null,
            "grid_template_columns": null,
            "flex": null,
            "_model_name": "LayoutModel",
            "justify_items": null,
            "grid_row": null,
            "max_height": null,
            "align_content": null,
            "visibility": null,
            "align_self": null,
            "height": null,
            "min_height": null,
            "padding": null,
            "grid_auto_rows": null,
            "grid_gap": null,
            "max_width": null,
            "order": null,
            "_view_module_version": "1.2.0",
            "grid_template_areas": null,
            "object_position": null,
            "object_fit": null,
            "grid_auto_columns": null,
            "margin": null,
            "display": null,
            "left": null
          }
        },
        "753af1f2a6aa4850b7cce664c3237958": {
          "model_module": "@jupyter-widgets/controls",
          "model_name": "FloatProgressModel",
          "state": {
            "_view_name": "ProgressView",
            "style": "IPY_MODEL_2029137c563d4a7a9be5bcc3d9f89a61",
            "_dom_classes": [],
            "description": "100%",
            "_model_name": "FloatProgressModel",
            "bar_style": "success",
            "max": 10000,
            "_view_module": "@jupyter-widgets/controls",
            "_model_module_version": "1.5.0",
            "value": 10000,
            "_view_count": null,
            "_view_module_version": "1.5.0",
            "orientation": "horizontal",
            "min": 0,
            "description_tooltip": null,
            "_model_module": "@jupyter-widgets/controls",
            "layout": "IPY_MODEL_525b8bd568264717bc70c97d426e1feb"
          }
        },
        "e599bb13794f4febb0cd3d5f388b13a5": {
          "model_module": "@jupyter-widgets/controls",
          "model_name": "HTMLModel",
          "state": {
            "_view_name": "HTMLView",
            "style": "IPY_MODEL_703c31ae9f1d44f59cfad87edbc7e67f",
            "_dom_classes": [],
            "description": "",
            "_model_name": "HTMLModel",
            "placeholder": "​",
            "_view_module": "@jupyter-widgets/controls",
            "_model_module_version": "1.5.0",
            "value": " 10000/10000 [00:59&lt;00:00, 169.43it/s]",
            "_view_count": null,
            "_view_module_version": "1.5.0",
            "description_tooltip": null,
            "_model_module": "@jupyter-widgets/controls",
            "layout": "IPY_MODEL_a8bec76d0d5d456fb3949e7a00881d1c"
          }
        },
        "2029137c563d4a7a9be5bcc3d9f89a61": {
          "model_module": "@jupyter-widgets/controls",
          "model_name": "ProgressStyleModel",
          "state": {
            "_view_name": "StyleView",
            "_model_name": "ProgressStyleModel",
            "description_width": "initial",
            "_view_module": "@jupyter-widgets/base",
            "_model_module_version": "1.5.0",
            "_view_count": null,
            "_view_module_version": "1.2.0",
            "bar_color": null,
            "_model_module": "@jupyter-widgets/controls"
          }
        },
        "525b8bd568264717bc70c97d426e1feb": {
          "model_module": "@jupyter-widgets/base",
          "model_name": "LayoutModel",
          "state": {
            "_view_name": "LayoutView",
            "grid_template_rows": null,
            "right": null,
            "justify_content": null,
            "_view_module": "@jupyter-widgets/base",
            "overflow": null,
            "_model_module_version": "1.2.0",
            "_view_count": null,
            "flex_flow": null,
            "width": null,
            "min_width": null,
            "border": null,
            "align_items": null,
            "bottom": null,
            "_model_module": "@jupyter-widgets/base",
            "top": null,
            "grid_column": null,
            "overflow_y": null,
            "overflow_x": null,
            "grid_auto_flow": null,
            "grid_area": null,
            "grid_template_columns": null,
            "flex": null,
            "_model_name": "LayoutModel",
            "justify_items": null,
            "grid_row": null,
            "max_height": null,
            "align_content": null,
            "visibility": null,
            "align_self": null,
            "height": null,
            "min_height": null,
            "padding": null,
            "grid_auto_rows": null,
            "grid_gap": null,
            "max_width": null,
            "order": null,
            "_view_module_version": "1.2.0",
            "grid_template_areas": null,
            "object_position": null,
            "object_fit": null,
            "grid_auto_columns": null,
            "margin": null,
            "display": null,
            "left": null
          }
        },
        "703c31ae9f1d44f59cfad87edbc7e67f": {
          "model_module": "@jupyter-widgets/controls",
          "model_name": "DescriptionStyleModel",
          "state": {
            "_view_name": "StyleView",
            "_model_name": "DescriptionStyleModel",
            "description_width": "",
            "_view_module": "@jupyter-widgets/base",
            "_model_module_version": "1.5.0",
            "_view_count": null,
            "_view_module_version": "1.2.0",
            "_model_module": "@jupyter-widgets/controls"
          }
        },
        "a8bec76d0d5d456fb3949e7a00881d1c": {
          "model_module": "@jupyter-widgets/base",
          "model_name": "LayoutModel",
          "state": {
            "_view_name": "LayoutView",
            "grid_template_rows": null,
            "right": null,
            "justify_content": null,
            "_view_module": "@jupyter-widgets/base",
            "overflow": null,
            "_model_module_version": "1.2.0",
            "_view_count": null,
            "flex_flow": null,
            "width": null,
            "min_width": null,
            "border": null,
            "align_items": null,
            "bottom": null,
            "_model_module": "@jupyter-widgets/base",
            "top": null,
            "grid_column": null,
            "overflow_y": null,
            "overflow_x": null,
            "grid_auto_flow": null,
            "grid_area": null,
            "grid_template_columns": null,
            "flex": null,
            "_model_name": "LayoutModel",
            "justify_items": null,
            "grid_row": null,
            "max_height": null,
            "align_content": null,
            "visibility": null,
            "align_self": null,
            "height": null,
            "min_height": null,
            "padding": null,
            "grid_auto_rows": null,
            "grid_gap": null,
            "max_width": null,
            "order": null,
            "_view_module_version": "1.2.0",
            "grid_template_areas": null,
            "object_position": null,
            "object_fit": null,
            "grid_auto_columns": null,
            "margin": null,
            "display": null,
            "left": null
          }
        },
        "3645623edbad479f9dd1253083592fb5": {
          "model_module": "@jupyter-widgets/controls",
          "model_name": "HBoxModel",
          "state": {
            "_view_name": "HBoxView",
            "_dom_classes": [],
            "_model_name": "HBoxModel",
            "_view_module": "@jupyter-widgets/controls",
            "_model_module_version": "1.5.0",
            "_view_count": null,
            "_view_module_version": "1.5.0",
            "box_style": "",
            "layout": "IPY_MODEL_7d3510262b804692b493b6f71251ad75",
            "_model_module": "@jupyter-widgets/controls",
            "children": [
              "IPY_MODEL_5f5dffc2d4534292a7df476053b62567",
              "IPY_MODEL_096d57d913574a2e8836a73acd288f5b"
            ]
          }
        },
        "7d3510262b804692b493b6f71251ad75": {
          "model_module": "@jupyter-widgets/base",
          "model_name": "LayoutModel",
          "state": {
            "_view_name": "LayoutView",
            "grid_template_rows": null,
            "right": null,
            "justify_content": null,
            "_view_module": "@jupyter-widgets/base",
            "overflow": null,
            "_model_module_version": "1.2.0",
            "_view_count": null,
            "flex_flow": null,
            "width": null,
            "min_width": null,
            "border": null,
            "align_items": null,
            "bottom": null,
            "_model_module": "@jupyter-widgets/base",
            "top": null,
            "grid_column": null,
            "overflow_y": null,
            "overflow_x": null,
            "grid_auto_flow": null,
            "grid_area": null,
            "grid_template_columns": null,
            "flex": null,
            "_model_name": "LayoutModel",
            "justify_items": null,
            "grid_row": null,
            "max_height": null,
            "align_content": null,
            "visibility": null,
            "align_self": null,
            "height": null,
            "min_height": null,
            "padding": null,
            "grid_auto_rows": null,
            "grid_gap": null,
            "max_width": null,
            "order": null,
            "_view_module_version": "1.2.0",
            "grid_template_areas": null,
            "object_position": null,
            "object_fit": null,
            "grid_auto_columns": null,
            "margin": null,
            "display": null,
            "left": null
          }
        },
        "5f5dffc2d4534292a7df476053b62567": {
          "model_module": "@jupyter-widgets/controls",
          "model_name": "FloatProgressModel",
          "state": {
            "_view_name": "ProgressView",
            "style": "IPY_MODEL_efd3fc31dfc7435eaabe3ecb484c4e47",
            "_dom_classes": [],
            "description": "100%",
            "_model_name": "FloatProgressModel",
            "bar_style": "success",
            "max": 20,
            "_view_module": "@jupyter-widgets/controls",
            "_model_module_version": "1.5.0",
            "value": 20,
            "_view_count": null,
            "_view_module_version": "1.5.0",
            "orientation": "horizontal",
            "min": 0,
            "description_tooltip": null,
            "_model_module": "@jupyter-widgets/controls",
            "layout": "IPY_MODEL_0240d0dad48249629fa6bf24b7c618e7"
          }
        },
        "096d57d913574a2e8836a73acd288f5b": {
          "model_module": "@jupyter-widgets/controls",
          "model_name": "HTMLModel",
          "state": {
            "_view_name": "HTMLView",
            "style": "IPY_MODEL_e879329b71434b48a046c377f8251d6b",
            "_dom_classes": [],
            "description": "",
            "_model_name": "HTMLModel",
            "placeholder": "​",
            "_view_module": "@jupyter-widgets/controls",
            "_model_module_version": "1.5.0",
            "value": " 20/20 [1:38:23&lt;00:00, 295.17s/it]",
            "_view_count": null,
            "_view_module_version": "1.5.0",
            "description_tooltip": null,
            "_model_module": "@jupyter-widgets/controls",
            "layout": "IPY_MODEL_434cc8426e2b4025952bb3b2b69e3fc9"
          }
        },
        "efd3fc31dfc7435eaabe3ecb484c4e47": {
          "model_module": "@jupyter-widgets/controls",
          "model_name": "ProgressStyleModel",
          "state": {
            "_view_name": "StyleView",
            "_model_name": "ProgressStyleModel",
            "description_width": "initial",
            "_view_module": "@jupyter-widgets/base",
            "_model_module_version": "1.5.0",
            "_view_count": null,
            "_view_module_version": "1.2.0",
            "bar_color": null,
            "_model_module": "@jupyter-widgets/controls"
          }
        },
        "0240d0dad48249629fa6bf24b7c618e7": {
          "model_module": "@jupyter-widgets/base",
          "model_name": "LayoutModel",
          "state": {
            "_view_name": "LayoutView",
            "grid_template_rows": null,
            "right": null,
            "justify_content": null,
            "_view_module": "@jupyter-widgets/base",
            "overflow": null,
            "_model_module_version": "1.2.0",
            "_view_count": null,
            "flex_flow": null,
            "width": null,
            "min_width": null,
            "border": null,
            "align_items": null,
            "bottom": null,
            "_model_module": "@jupyter-widgets/base",
            "top": null,
            "grid_column": null,
            "overflow_y": null,
            "overflow_x": null,
            "grid_auto_flow": null,
            "grid_area": null,
            "grid_template_columns": null,
            "flex": null,
            "_model_name": "LayoutModel",
            "justify_items": null,
            "grid_row": null,
            "max_height": null,
            "align_content": null,
            "visibility": null,
            "align_self": null,
            "height": null,
            "min_height": null,
            "padding": null,
            "grid_auto_rows": null,
            "grid_gap": null,
            "max_width": null,
            "order": null,
            "_view_module_version": "1.2.0",
            "grid_template_areas": null,
            "object_position": null,
            "object_fit": null,
            "grid_auto_columns": null,
            "margin": null,
            "display": null,
            "left": null
          }
        },
        "e879329b71434b48a046c377f8251d6b": {
          "model_module": "@jupyter-widgets/controls",
          "model_name": "DescriptionStyleModel",
          "state": {
            "_view_name": "StyleView",
            "_model_name": "DescriptionStyleModel",
            "description_width": "",
            "_view_module": "@jupyter-widgets/base",
            "_model_module_version": "1.5.0",
            "_view_count": null,
            "_view_module_version": "1.2.0",
            "_model_module": "@jupyter-widgets/controls"
          }
        },
        "434cc8426e2b4025952bb3b2b69e3fc9": {
          "model_module": "@jupyter-widgets/base",
          "model_name": "LayoutModel",
          "state": {
            "_view_name": "LayoutView",
            "grid_template_rows": null,
            "right": null,
            "justify_content": null,
            "_view_module": "@jupyter-widgets/base",
            "overflow": null,
            "_model_module_version": "1.2.0",
            "_view_count": null,
            "flex_flow": null,
            "width": null,
            "min_width": null,
            "border": null,
            "align_items": null,
            "bottom": null,
            "_model_module": "@jupyter-widgets/base",
            "top": null,
            "grid_column": null,
            "overflow_y": null,
            "overflow_x": null,
            "grid_auto_flow": null,
            "grid_area": null,
            "grid_template_columns": null,
            "flex": null,
            "_model_name": "LayoutModel",
            "justify_items": null,
            "grid_row": null,
            "max_height": null,
            "align_content": null,
            "visibility": null,
            "align_self": null,
            "height": null,
            "min_height": null,
            "padding": null,
            "grid_auto_rows": null,
            "grid_gap": null,
            "max_width": null,
            "order": null,
            "_view_module_version": "1.2.0",
            "grid_template_areas": null,
            "object_position": null,
            "object_fit": null,
            "grid_auto_columns": null,
            "margin": null,
            "display": null,
            "left": null
          }
        }
      }
    },
    "accelerator": "GPU"
  },
  "cells": [
    {
      "cell_type": "code",
      "metadata": {
        "id": "zNR4ZLJwNYf0",
        "colab_type": "code",
        "colab": {
          "base_uri": "https://localhost:8080/",
          "height": 123
        },
        "outputId": "ab3820d8-2528-45a5-97f0-f65dafe25b92"
      },
      "source": [
        "from google.colab import drive\n",
        "drive.mount('/content/drive')"
      ],
      "execution_count": null,
      "outputs": []
    },
    {
      "cell_type": "code",
      "metadata": {
        "id": "gIVYOH0mCpyL",
        "colab_type": "code",
        "colab": {}
      },
      "source": [
        "import sys\n",
        "sys.path.append('/content/drive/My Drive/Colab Notebooks/CondNet')"
      ],
      "execution_count": null,
      "outputs": []
    },
    {
      "cell_type": "code",
      "metadata": {
        "id": "Pj25LnjGh0fN",
        "colab_type": "code",
        "colab": {}
      },
      "source": [
        "from tqdm.notebook import tqdm\n",
        "\n",
        "import importlib\n",
        "import torch\n",
        "import torch.optim as optim\n",
        "import torch.nn as nn\n",
        "import numpy as np\n",
        "import matplotlib.pyplot as plt\n",
        "\n",
        "from torch import Tensor, Size\n",
        "from torch import autograd\n",
        "from torch.nn import Module\n",
        "from typing import Optional\n",
        "from torch.nn import functional as F\n",
        "\n",
        "import fcn\n",
        "import fcn8\n",
        "import img_utils as iu\n",
        "import loss_iter\n",
        "import CondNet"
      ],
      "execution_count": null,
      "outputs": []
    },
    {
      "cell_type": "code",
      "metadata": {
        "id": "nLQsphGGtYdf",
        "colab_type": "code",
        "colab": {}
      },
      "source": [
        "torch.manual_seed(0)\n",
        "torch.backends.cudnn.deterministic = True\n",
        "torch.backends.cudnn.benchmark = False\n",
        "np.random.seed(0)"
      ],
      "execution_count": null,
      "outputs": []
    },
    {
      "cell_type": "code",
      "metadata": {
        "id": "dit037oniJAj",
        "colab_type": "code",
        "colab": {
          "base_uri": "https://localhost:8080/",
          "height": 66,
          "referenced_widgets": [
            "c40d0a3698fe4d83bbf1577f728bb5dc",
            "1ed123687dee493281d3a81356397e9e",
            "753af1f2a6aa4850b7cce664c3237958",
            "e599bb13794f4febb0cd3d5f388b13a5",
            "2029137c563d4a7a9be5bcc3d9f89a61",
            "525b8bd568264717bc70c97d426e1feb",
            "703c31ae9f1d44f59cfad87edbc7e67f",
            "a8bec76d0d5d456fb3949e7a00881d1c"
          ]
        },
        "outputId": "6eb2e8ee-29e6-4e3c-8f04-6128c2e1f125"
      },
      "source": [
        "importlib.reload(iu)\n",
        "iu.gen_images(10000)"
      ],
      "execution_count": null,
      "outputs": []
    },
    {
      "cell_type": "code",
      "metadata": {
        "id": "tsGUTHLth0fa",
        "colab_type": "code",
        "colab": {}
      },
      "source": [
        "class ReductionBlock(nn.Module):\n",
        "\n",
        "    def __init__(self, in_channels):\n",
        "        super(ReductionBlock, self).__init__()\n",
        "        self.in_channels = in_channels\n",
        "        self.net = nn.Sequential(\n",
        "            nn.Conv2d(self.in_channels, 32, kernel_size=(4, 4)),\n",
        "            nn.MaxPool2d(kernel_size=(2, 2), stride=2),\n",
        "            nn.Conv2d(32, 48, kernel_size=(4, 4)),\n",
        "            nn.MaxPool2d(kernel_size=(2, 2), stride=2),\n",
        "            nn.Conv2d(48, 64, kernel_size=(4, 4)),\n",
        "            nn.MaxPool2d(kernel_size=(2, 2), stride=2),\n",
        "            nn.Conv2d(64, 96, kernel_size=(4, 4)),\n",
        "            nn.MaxPool2d(kernel_size=(2, 2), stride=2),\n",
        "            nn.Upsample(scale_factor=64)\n",
        "        )\n",
        "\n",
        "    def forward(self, x):\n",
        "        return self.net(x)"
      ],
      "execution_count": null,
      "outputs": []
    },
    {
      "cell_type": "code",
      "metadata": {
        "id": "HNDHo5xHh0fl",
        "colab_type": "code",
        "colab": {}
      },
      "source": [
        "class MainBlock(nn.Module):\n",
        "    \n",
        "    def __init__(self, in_channels, kernel_size):\n",
        "        super(MainBlock, self).__init__()\n",
        "        self.in_channels = in_channels\n",
        "        self.kernel_size = kernel_size\n",
        "        self.reduction_block = ReductionBlock(self.in_channels)\n",
        "        self.batch_norm = nn.BatchNorm2d(self.in_channels)\n",
        "        \n",
        "        if self.kernel_size % 2 == 0:\n",
        "            self.zero_pad = nn.ZeroPad2d(padding=(3, 0, 3, 0))\n",
        "            self.conv_layer = nn.Conv2d(self.in_channels + 96, 64, kernel_size=self.kernel_size, padding=0)\n",
        "        else:\n",
        "            self.conv_layer = nn.Conv2d(self.in_channels + 96, 64, kernel_size=self.kernel_size, padding=self.kernel_size // 2)\n",
        "    def forward(self, x):\n",
        "        x = self.batch_norm(x)\n",
        "        reduced_x = self.reduction_block(x)\n",
        "        # print(reduced_x.shape, x.shape)\n",
        "        x = torch.cat((x, reduced_x), dim=1)\n",
        "        if self.kernel_size % 2 == 0:\n",
        "            x = self.zero_pad(x)\n",
        "        x = self.conv_layer(x)\n",
        "        x_mean = x.mean()\n",
        "        ones = torch.ones(x.shape)\n",
        "        if torch.cuda.is_available():\n",
        "          ones = ones.cuda()\n",
        "        x = torch.cat((x, x_mean * ones), dim=1)\n",
        "        return x"
      ],
      "execution_count": null,
      "outputs": []
    },
    {
      "cell_type": "code",
      "metadata": {
        "id": "OEaiO-SLh0fv",
        "colab_type": "code",
        "colab": {}
      },
      "source": [
        "class CondNet(nn.Module):\n",
        "\n",
        "    def __init__(self, in_channels, n_class=3):\n",
        "        super(CondNet, self).__init__()\n",
        "        self.in_channels = in_channels\n",
        "        self.n_class = n_class\n",
        "        self.net = nn.Sequential(\n",
        "            MainBlock(self.in_channels, 3),\n",
        "            MainBlock(128, 4),\n",
        "            MainBlock(128, 5)\n",
        "        )\n",
        "\n",
        "        self.cond_linear = nn.Sequential(\n",
        "            nn.Linear(128, 64),\n",
        "            nn.ELU(),\n",
        "            nn.Linear(64, 64),\n",
        "            nn.ELU(),\n",
        "            nn.Linear(64, 1)\n",
        "        )\n",
        "\n",
        "        self.cluster_linear = nn.Sequential(\n",
        "            nn.Linear(128, 64),\n",
        "            nn.ELU(),\n",
        "            nn.Linear(64, 64),\n",
        "            nn.ELU(),\n",
        "            nn.Linear(64, 2)\n",
        "        )\n",
        "\n",
        "        self.seg_linear = nn.Sequential(\n",
        "            nn.Linear(128, 64),\n",
        "            nn.ELU(),\n",
        "            nn.Linear(64, 64),\n",
        "            nn.ELU(),\n",
        "            nn.Linear(64, 3),\n",
        "        )\n",
        "\n",
        "        # self.seg_net = nn.Sequential(\n",
        "        #     nn.ReLU(inplace=True),\n",
        "        #     nn.Conv2d(128, 64, kernel_size=3, padding=1),\n",
        "        #     nn.ReLU(inplace=True),\n",
        "        #     nn.Conv2d(64, 32, kernel_size=3, padding=1),\n",
        "        #     nn.ReLU(inplace=True),\n",
        "        #     nn.Conv2d(32, self.n_class, kernel_size=1, padding=0),\n",
        "        # )\n",
        "\n",
        "    def forward(self, x):\n",
        "        x = self.net(x)\n",
        "        # print(x.shape)\n",
        "        x = x.permute(0, 2, 3, 1)\n",
        "        # print(x.shape, y.shape)\n",
        "        beta = self.cond_linear(x).squeeze(3)\n",
        "        clust = self.cluster_linear(x)\n",
        "        seg = self.seg_linear(x).permute(0, 3, 1, 2)\n",
        "        return beta, clust, seg"
      ],
      "execution_count": null,
      "outputs": []
    },
    {
      "cell_type": "code",
      "metadata": {
        "id": "ratMQSk9h0hT",
        "colab_type": "code",
        "colab": {}
      },
      "source": [
        "torch.manual_seed(0)\n",
        "np.random.seed(0)\n",
        "\n",
        "test_net = CondNet(3)\n",
        "test_net.cuda()\n",
        "\n",
        "opt1 = optim.Adam(test_net.parameters(), lr=5*10**(-4))"
      ],
      "execution_count": null,
      "outputs": []
    },
    {
      "cell_type": "code",
      "metadata": {
        "id": "DiW1mJ_DIInD",
        "colab_type": "code",
        "colab": {
          "base_uri": "https://localhost:8080/",
          "height": 71
        },
        "outputId": "049ac60b-e850-4737-84f4-820d3f2a1131"
      },
      "source": [
        "importlib.reload(loss_iter)\n",
        "loss_func = loss_iter.CondLoss(loss_function=nn.CrossEntropyLoss(reduce=False, ignore_index=-1), q_min=0.4, supression=10, cond_weight=0.4, cuda=True)"
      ],
      "execution_count": null,
      "outputs": []
    },
    {
      "cell_type": "code",
      "metadata": {
        "id": "PKjjTfX3h0hh",
        "colab_type": "code",
        "colab": {}
      },
      "source": [
        "ds = iu.ImageDataset('')"
      ],
      "execution_count": null,
      "outputs": []
    },
    {
      "cell_type": "code",
      "metadata": {
        "id": "hhPhuIhch0ho",
        "colab_type": "code",
        "colab": {}
      },
      "source": [
        "dataloader = torch.utils.data.DataLoader(ds, batch_size=100, shuffle=False)#, collate_fn=lambda batch: [(dp[0], dp[1], dp[2]) for dp in batch])"
      ],
      "execution_count": null,
      "outputs": []
    },
    {
      "cell_type": "code",
      "metadata": {
        "id": "wv_g9YZoem-p",
        "colab_type": "code",
        "colab": {}
      },
      "source": [
        "from matplotlib.lines import Line2D   \n",
        "\n",
        "def plot_grad_flow(named_parameters):\n",
        "    '''Plots the gradients flowing through different layers in the net during training.\n",
        "    Can be used for checking for possible gradient vanishing / exploding problems.\n",
        "    \n",
        "    Usage: Plug this function in Trainer class after loss.backwards() as \n",
        "    \"plot_grad_flow(self.model.named_parameters())\" to visualize the gradient flow'''\n",
        "    ave_grads = []\n",
        "    max_grads= []\n",
        "    layers = []\n",
        "    for n, p in named_parameters:\n",
        "        if(p.requires_grad) and (\"bias\" not in n):\n",
        "            layers.append(n)\n",
        "            ave_grads.append(p.grad.abs().mean())\n",
        "            max_grads.append(p.grad.abs().max())\n",
        "    plt.bar(np.arange(len(max_grads)), max_grads, alpha=0.1, lw=1, color=\"c\")\n",
        "    plt.bar(np.arange(len(max_grads)), ave_grads, alpha=0.1, lw=1, color=\"b\")\n",
        "    plt.hlines(0, 0, len(ave_grads)+1, lw=2, color=\"k\" )\n",
        "    plt.xticks(range(0,len(ave_grads), 1), layers, rotation=\"vertical\")\n",
        "    plt.xlim(left=0, right=len(ave_grads))\n",
        "    plt.ylim(bottom = -0.001, top=0.02) # zoom in on the lower gradient regions\n",
        "    plt.xlabel(\"Layers\")\n",
        "    plt.ylabel(\"average gradient\")\n",
        "    plt.title(\"Gradient flow\")\n",
        "    plt.grid(True)\n",
        "    plt.legend([Line2D([0], [0], color=\"c\", lw=4),\n",
        "                Line2D([0], [0], color=\"b\", lw=4),\n",
        "                Line2D([0], [0], color=\"k\", lw=4)], ['max-gradient', 'mean-gradient', 'zero-gradient'])"
      ],
      "execution_count": null,
      "outputs": []
    },
    {
      "cell_type": "code",
      "metadata": {
        "id": "ISFNkVx7h0h-",
        "colab_type": "code",
        "colab": {}
      },
      "source": [
        "\n",
        "\n",
        "test_net.cuda()\n",
        "test_net.train()\n",
        "for i, (data, mask, matrix) in enumerate(dataloader):\n",
        "  if (i < 9):\n",
        "    print(f\"i is {i}\")\n",
        "    data = data.cuda().float()\n",
        "    mask = mask.cuda().squeeze(1)\n",
        "    matrix = matrix.cuda().float()\n",
        "    with autograd.detect_anomaly():\n",
        "      opt1.zero_grad()\n",
        "      beta, test_x, segmentation = test_net(data)\n",
        "      test_matrix = matrix.reshape(matrix.shape[0], matrix.shape[1], -1)\n",
        "      test_out = nn.Sigmoid()(beta)\n",
        "      test_beta = test_out.reshape(test_out.shape[0], -1)\n",
        "      print(torch.sum(test_beta < -1), torch.sum(test_beta > 1))\n",
        "      test_q = loss_func.atanh(test_beta) ** 2 + loss_func.q_min\n",
        "      print(f\"q not nan: {torch.sum(torch.isnan(test_q))}\")\n",
        "      print(f\"q max: {torch.max(test_q - loss_func.q_min, dim=1)}\")\n",
        "      test_noise = (torch.sum(test_matrix, dim=1) < 1).float()\n",
        "      print(f\"Noise vertices: {torch.sum(test_noise, dim=1)}\")\n",
        "      print(f\"test_noise : {torch.sum((1 - test_noise) * (test_q - loss_func.q_min), dim=1)}\")\n",
        "      print(mask.shape, segmentation.shape)\n",
        "      temp_general_loss = loss_func.general_loss(test_noise, test_q, segmentation, mask)\n",
        "      temp_background_loss = loss_func.background_loss(test_beta, test_matrix, test_noise, test_matrix.shape[1])\n",
        "      temp_potential_loss = loss_func.potential_loss(test_x.reshape(10, -1, 2), test_q, test_matrix, 64, 64, test_matrix.shape[1])\n",
        "      print(f\"General loss: {temp_general_loss}\")\n",
        "      print(f\"Background loss: {temp_background_loss}\")\n",
        "      print(f\"Potential loss: {temp_potential_loss}\")\n",
        "      print(f\"Overall loss: {(temp_general_loss + loss_func.cond_weight * (temp_background_loss + temp_potential_loss)).mean()}\")\n",
        "      # print(test_noise.shape)\n",
        "      # print(test_noise)\n",
        "      # print(torch.sum(torch.eq(test_noise, 0)), torch.sum(torch.isnan(test_out)), torch.sum(torch.isnan(output[1])))\n",
        "      if i < 8:\n",
        "        curr_loss = loss_func(test_x, test_out, matrix, segmentation, mask)\n",
        "        print(torch.sum(torch.isnan(curr_loss)))\n",
        "        print(curr_loss.item())\n",
        "        curr_loss.backward()\n",
        "        opt1.step()"
      ],
      "execution_count": null,
      "outputs": []
    },
    {
      "cell_type": "code",
      "metadata": {
        "id": "WRSx4wohnd2Q",
        "colab_type": "code",
        "colab": {
          "base_uri": "https://localhost:8080/",
          "height": 343
        },
        "outputId": "ac74c6cf-8ad7-4e42-ecea-1547386e44b5"
      },
      "source": [
        "plot_grad_flow(test_net.named_parameters())"
      ],
      "execution_count": null,
      "outputs": []
    },
    {
      "cell_type": "code",
      "metadata": {
        "tags": [],
        "id": "fy0UNERDh0iE",
        "colab_type": "code",
        "colab": {
          "base_uri": "https://localhost:8080/",
          "height": 463,
          "referenced_widgets": [
            "3645623edbad479f9dd1253083592fb5",
            "7d3510262b804692b493b6f71251ad75",
            "5f5dffc2d4534292a7df476053b62567",
            "096d57d913574a2e8836a73acd288f5b",
            "efd3fc31dfc7435eaabe3ecb484c4e47",
            "0240d0dad48249629fa6bf24b7c618e7",
            "e879329b71434b48a046c377f8251d6b",
            "434cc8426e2b4025952bb3b2b69e3fc9"
          ]
        },
        "outputId": "fc705a3e-0598-4175-edc9-428bc444613d"
      },
      "source": [
        "n_epochs = 20\n",
        "# torch.autograd.set_detect_anomaly = True\n",
        "loss_vs_epoch = []\n",
        "test_net.float()\n",
        "test_net.train()\n",
        "sigmoid = nn.Sigmoid()\n",
        "for epoch in tqdm(range(n_epochs)):\n",
        "    temp_loss = 0\n",
        "    for i, (data, mask, matrix) in enumerate(dataloader):\n",
        "        opt1.zero_grad()\n",
        "        data = data.cuda().float()\n",
        "        mask = mask.cuda().squeeze(1)\n",
        "        matrix = matrix.cuda().float()\n",
        "        try:\n",
        "          with autograd.detect_anomaly():\n",
        "            output = test_net(data)\n",
        "            curr_loss = loss_func(output[1], sigmoid(output[0]), matrix, output[2], mask)\n",
        "            curr_loss.backward()\n",
        "            opt1.step()\n",
        "        except Exception as e:\n",
        "          print(i, curr_loss)\n",
        "          print(e)\n",
        "          raise\n",
        "        temp_loss += curr_loss.item() * data.size(0)\n",
        "    loss_vs_epoch.append(temp_loss / len(dataloader.sampler))\n",
        "    print(f\"Epoch: {epoch}, Loss: {loss_vs_epoch[-1]}\")\n",
        "    torch.save(test_net.state_dict(), 'net_my_fcn.pt')\n",
        "\n",
        "torch.save(test_net.state_dict(), '/content/drive/My Drive/Colab Notebooks/CondNet/net_my_fcn.pt')"
      ],
      "execution_count": null,
      "outputs": []
    },
    {
      "cell_type": "code",
      "metadata": {
        "id": "THicDo8ellgX",
        "colab_type": "code",
        "colab": {}
      },
      "source": [
        "plt.plot(loss_vs_epoch[1:])"
      ],
      "execution_count": null,
      "outputs": []
    },
    {
      "cell_type": "code",
      "metadata": {
        "id": "RefsU3uSZR0S",
        "colab_type": "code",
        "colab": {
          "base_uri": "https://localhost:8080/",
          "height": 540
        },
        "outputId": "7353db4c-21cc-4127-f63a-682b474998cc"
      },
      "source": [
        "item = 133\n",
        "\n",
        "data, mask, _ = ds[item]\n",
        "\n",
        "data = data.unsqueeze(0).cuda().float()\n",
        "test_net.eval()\n",
        "test_out = test_net(data)\n",
        "\n",
        "\n",
        "fig, ax = plt.subplots(3, 3, figsize=(9,9))\n",
        "\n",
        "\n",
        "\n",
        "ax[0, 0].imshow(test_out[0][0, :, :].cpu().data.numpy())\n",
        "ax[0, 1].imshow(test_out[0][0, :, :].cpu().data.numpy())\n",
        "ax[0, 2].imshow(test_out[0][0, :, :].cpu().data.numpy())\n",
        "\n",
        "ax[1, 0].imshow((test_out[2][0, 0, :, :]).cpu().data.numpy())\n",
        "ax[1, 1].imshow((test_out[2][0, 1, :, :]).cpu().data.numpy())\n",
        "ax[1, 2].imshow((test_out[2][0, 2, :, :]).cpu().data.numpy())\n",
        "\n",
        "ax[2, 0].imshow(mask[0, :, :].cpu().data.numpy())\n",
        "ax[2, 1].imshow(mask[0, :, :].cpu().data.numpy())\n",
        "ax[2, 2].imshow(mask[0, :, :].cpu().data.numpy())\n",
        "\n",
        "plt.show()"
      ],
      "execution_count": null,
      "outputs": []
    },
    {
      "cell_type": "code",
      "metadata": {
        "id": "y9R4pzhMjHsO",
        "colab_type": "code",
        "colab": {}
      },
      "source": [
        ""
      ],
      "execution_count": null,
      "outputs": []
    }
  ]
}